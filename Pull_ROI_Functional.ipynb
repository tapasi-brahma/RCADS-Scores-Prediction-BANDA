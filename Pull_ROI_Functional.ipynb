{
 "cells": [
  {
   "cell_type": "code",
   "execution_count": 18,
   "id": "81707cbf",
   "metadata": {},
   "outputs": [],
   "source": [
    "from Pull_ROI_Functional import *\n",
    "import pandas as pd\n",
    "import os"
   ]
  },
  {
   "cell_type": "code",
   "execution_count": 19,
   "id": "ac31698f",
   "metadata": {},
   "outputs": [],
   "source": [
    "\n",
    "func_img = nib.load('/Volumes/AUERBACHLAB/Columbia/HCP_BANDA_1.0_Data/NDA_FINAL/derivatives/BANDA003_MR/func/faces/BANDA003_MR_task-face_level2.gfeat/cope7.feat/stats/tstat1.nii.gz')\n"
   ]
  },
  {
   "cell_type": "code",
   "execution_count": 20,
   "id": "1538395e",
   "metadata": {},
   "outputs": [],
   "source": [
    "ROI_dataframe = pd.read_csv('tapasi_roi_list_without_Reuniens.csv')"
   ]
  },
  {
   "cell_type": "code",
   "execution_count": 21,
   "id": "f66eed99",
   "metadata": {},
   "outputs": [],
   "source": [
    "for i, row in ROI_dataframe.iterrows():\n",
    "    if row['HEMISPHERE'] == 'LEFT HEMISPHERE':\n",
    "        ROI_dataframe.loc[i, 'RegionLongName'] = row['RegionLongName'] + '_Left'\n",
    "    else:\n",
    "        ROI_dataframe.loc[i, 'RegionLongName'] = row['RegionLongName'] + '_Right'"
   ]
  },
  {
   "cell_type": "code",
   "execution_count": 22,
   "id": "8478e676",
   "metadata": {},
   "outputs": [],
   "source": [
    "#185 participants\n",
    "Clinical_Data_Clean_for_T2 = pd.read_excel('/Users/eastvillage/Desktop/Tapasi/Model/Clinical_Data_Clean_for_T2.xlsx')\n"
   ]
  },
  {
   "cell_type": "code",
   "execution_count": 23,
   "id": "5e0ba074",
   "metadata": {},
   "outputs": [],
   "source": [
    "#182 participants\n",
    "Clinical_Structural_Data_Clean = pd.read_excel('/Users/eastvillage/Desktop/Tapasi/Model/Clinical_Structural_Data_Clean.xlsx')\n"
   ]
  },
  {
   "cell_type": "code",
   "execution_count": 24,
   "id": "d3f22144",
   "metadata": {
    "scrolled": false
   },
   "outputs": [],
   "source": [
    "ROI_array_for_columns = np.insert(np.array(ROI_dataframe['RegionLongName']),0,'src_subject_id')\n",
    "Functional_data = pd.DataFrame(columns=ROI_array_for_columns)\n",
    "\n",
    "participant_path = '/Volumes/AUERBACHLAB/Columbia/HCP_BANDA_1.0_Data/NDA_FINAL/derivatives/'\n",
    "\n",
    "# Loop through num. of participants times and add a new row in each iteration\n",
    "for j in range(len(Clinical_Data_Clean_for_T2)):\n",
    "    # Create a new row as a dictionary\n",
    "    #6 participants from the clean T2 data do not have fMRI data (185 - 179)\n",
    "    if Clinical_Data_Clean_for_T2['src_subject_id'][j]+'_MR' in os.listdir(participant_path):\n",
    "        new_row = {ROI_array_for_columns[0]: Clinical_Data_Clean_for_T2['src_subject_id'][j]} #Entering participant ID in each row\n",
    "        \n",
    "        column_num = 1\n",
    "        for i in ROI_dataframe['ID']:\n",
    "\n",
    "            output = pull_roi(func_path = participant_path + Clinical_Data_Clean_for_T2['src_subject_id'][j] +'_MR/func/faces/'+ Clinical_Data_Clean_for_T2['src_subject_id'][j] +'_MR_task-face_level2.gfeat/cope7.feat/stats/tstat1.nii.gz',\n",
    "                    label_path = '/Volumes/AUERBACHLAB/Columbia/General/Tapasi_Brahma/Atlas/HCPex/HCPex_FSLspace.nii.gz',\n",
    "                    thresh_value = i)\n",
    "\n",
    "            new_row.update({ROI_array_for_columns[column_num]: output}) \n",
    "            column_num = column_num + 1\n",
    "            \n",
    "        Functional_data = pd.concat([Functional_data, (pd.Series(new_row).to_frame().T)], ignore_index=True)"
   ]
  },
  {
   "cell_type": "code",
   "execution_count": null,
   "id": "5863a295",
   "metadata": {},
   "outputs": [],
   "source": [
    "# #List of missing fMRI data\n",
    "# c = 0\n",
    "\n",
    "# for j in range(len(Clinical_Data_Clean_for_T2)):\n",
    "#     # Create a new row as a dictionary\n",
    "#     if not(str(Clinical_Data_Clean_for_T2['src_subject_id'][j]+'_MR') in os.listdir(participant_path)):\n",
    "        \n",
    "#         print(str(Clinical_Data_Clean_for_T2['src_subject_id'][j]+'_MR'))\n",
    "        \n",
    "#         c = c+1\n",
    "# print(c)\n",
    "        "
   ]
  },
  {
   "cell_type": "code",
   "execution_count": 25,
   "id": "ad4eff91",
   "metadata": {},
   "outputs": [],
   "source": [
    "Functional_data.to_excel('/Users/eastvillage/Desktop/Tapasi/Model/Prediction of T2 scores/Functional_MRI/Functional_data.xlsx', index=False)\n"
   ]
  },
  {
   "cell_type": "code",
   "execution_count": 28,
   "id": "b5fc50f5",
   "metadata": {
    "scrolled": true
   },
   "outputs": [
    {
     "name": "stdout",
     "output_type": "stream",
     "text": [
      "There are no NaN values in the selected columns.\n",
      "There are no NaN values in the selected columns.\n",
      "There are no NaN values in the selected columns.\n",
      "There are no NaN values in the selected columns.\n",
      "There are no NaN values in the selected columns.\n",
      "There are no NaN values in the selected columns.\n",
      "There are no NaN values in the selected columns.\n",
      "There are no NaN values in the selected columns.\n",
      "There are no NaN values in the selected columns.\n",
      "There are no NaN values in the selected columns.\n",
      "There are no NaN values in the selected columns.\n",
      "There are no NaN values in the selected columns.\n",
      "There are no NaN values in the selected columns.\n",
      "There are no NaN values in the selected columns.\n",
      "There are no NaN values in the selected columns.\n",
      "There are no NaN values in the selected columns.\n",
      "There are no NaN values in the selected columns.\n",
      "There are no NaN values in the selected columns.\n",
      "There are no NaN values in the selected columns.\n",
      "There are no NaN values in the selected columns.\n",
      "There are no NaN values in the selected columns.\n",
      "There are no NaN values in the selected columns.\n",
      "There are no NaN values in the selected columns.\n",
      "There are no NaN values in the selected columns.\n",
      "There are no NaN values in the selected columns.\n",
      "There are no NaN values in the selected columns.\n",
      "There are no NaN values in the selected columns.\n",
      "There are no NaN values in the selected columns.\n",
      "There are no NaN values in the selected columns.\n",
      "There are no NaN values in the selected columns.\n",
      "There are no NaN values in the selected columns.\n",
      "There are no NaN values in the selected columns.\n",
      "There are no NaN values in the selected columns.\n",
      "There are no NaN values in the selected columns.\n",
      "There are no NaN values in the selected columns.\n",
      "There are no NaN values in the selected columns.\n",
      "There are no NaN values in the selected columns.\n",
      "There are no NaN values in the selected columns.\n",
      "There are no NaN values in the selected columns.\n",
      "There are no NaN values in the selected columns.\n",
      "There are no NaN values in the selected columns.\n",
      "There are no NaN values in the selected columns.\n",
      "There are no NaN values in the selected columns.\n",
      "There are no NaN values in the selected columns.\n",
      "There are no NaN values in the selected columns.\n",
      "There are no NaN values in the selected columns.\n",
      "There are no NaN values in the selected columns.\n",
      "There are no NaN values in the selected columns.\n",
      "There are no NaN values in the selected columns.\n",
      "There are no NaN values in the selected columns.\n",
      "There are no NaN values in the selected columns.\n",
      "There are no NaN values in the selected columns.\n",
      "There are no NaN values in the selected columns.\n",
      "There are no NaN values in the selected columns.\n",
      "There are no NaN values in the selected columns.\n",
      "There are no NaN values in the selected columns.\n",
      "There are no NaN values in the selected columns.\n",
      "There are no NaN values in the selected columns.\n",
      "There are no NaN values in the selected columns.\n",
      "There are no NaN values in the selected columns.\n",
      "There are no NaN values in the selected columns.\n",
      "There are no NaN values in the selected columns.\n",
      "There are no NaN values in the selected columns.\n",
      "There are no NaN values in the selected columns.\n",
      "There are no NaN values in the selected columns.\n",
      "There are no NaN values in the selected columns.\n",
      "There are no NaN values in the selected columns.\n",
      "There are no NaN values in the selected columns.\n",
      "There are no NaN values in the selected columns.\n",
      "There are no NaN values in the selected columns.\n",
      "There are no NaN values in the selected columns.\n",
      "There are no NaN values in the selected columns.\n",
      "There are no NaN values in the selected columns.\n",
      "There are no NaN values in the selected columns.\n",
      "There are no NaN values in the selected columns.\n",
      "There are no NaN values in the selected columns.\n",
      "There are no NaN values in the selected columns.\n",
      "There are no NaN values in the selected columns.\n",
      "There are no NaN values in the selected columns.\n",
      "There are no NaN values in the selected columns.\n",
      "There are no NaN values in the selected columns.\n",
      "There are no NaN values in the selected columns.\n",
      "There are no NaN values in the selected columns.\n",
      "There are no NaN values in the selected columns.\n",
      "There are no NaN values in the selected columns.\n",
      "There are no NaN values in the selected columns.\n",
      "There are no NaN values in the selected columns.\n",
      "There are no NaN values in the selected columns.\n",
      "There are no NaN values in the selected columns.\n",
      "There are no NaN values in the selected columns.\n",
      "There are no NaN values in the selected columns.\n",
      "There are no NaN values in the selected columns.\n",
      "There are no NaN values in the selected columns.\n",
      "There are no NaN values in the selected columns.\n",
      "There are no NaN values in the selected columns.\n",
      "There are no NaN values in the selected columns.\n",
      "There are no NaN values in the selected columns.\n",
      "There are no NaN values in the selected columns.\n",
      "There are no NaN values in the selected columns.\n",
      "There are no NaN values in the selected columns.\n",
      "There are no NaN values in the selected columns.\n",
      "There are no NaN values in the selected columns.\n",
      "There are no NaN values in the selected columns.\n",
      "There are no NaN values in the selected columns.\n",
      "There are no NaN values in the selected columns.\n",
      "There are no NaN values in the selected columns.\n",
      "There are no NaN values in the selected columns.\n",
      "There are no NaN values in the selected columns.\n",
      "There are no NaN values in the selected columns.\n",
      "There are no NaN values in the selected columns.\n",
      "There are no NaN values in the selected columns.\n",
      "There are no NaN values in the selected columns.\n",
      "There are no NaN values in the selected columns.\n",
      "There are no NaN values in the selected columns.\n",
      "There are no NaN values in the selected columns.\n",
      "There are no NaN values in the selected columns.\n",
      "There are no NaN values in the selected columns.\n",
      "There are no NaN values in the selected columns.\n",
      "There are no NaN values in the selected columns.\n",
      "There are no NaN values in the selected columns.\n",
      "There are no NaN values in the selected columns.\n",
      "There are no NaN values in the selected columns.\n",
      "There are no NaN values in the selected columns.\n",
      "There are no NaN values in the selected columns.\n",
      "There are no NaN values in the selected columns.\n",
      "There are no NaN values in the selected columns.\n",
      "There are no NaN values in the selected columns.\n",
      "There are no NaN values in the selected columns.\n",
      "There are no NaN values in the selected columns.\n",
      "There are no NaN values in the selected columns.\n",
      "There are no NaN values in the selected columns.\n",
      "There are no NaN values in the selected columns.\n",
      "There are no NaN values in the selected columns.\n",
      "There are no NaN values in the selected columns.\n",
      "There are no NaN values in the selected columns.\n",
      "There are no NaN values in the selected columns.\n",
      "There are no NaN values in the selected columns.\n",
      "There are no NaN values in the selected columns.\n",
      "There are no NaN values in the selected columns.\n",
      "There are no NaN values in the selected columns.\n",
      "There are no NaN values in the selected columns.\n",
      "There are no NaN values in the selected columns.\n",
      "There are no NaN values in the selected columns.\n",
      "There are no NaN values in the selected columns.\n",
      "There are no NaN values in the selected columns.\n",
      "There are no NaN values in the selected columns.\n",
      "There are no NaN values in the selected columns.\n",
      "There are no NaN values in the selected columns.\n",
      "There are no NaN values in the selected columns.\n",
      "There are no NaN values in the selected columns.\n",
      "There are no NaN values in the selected columns.\n",
      "There are no NaN values in the selected columns.\n",
      "There are no NaN values in the selected columns.\n",
      "There are no NaN values in the selected columns.\n",
      "There are no NaN values in the selected columns.\n",
      "There are no NaN values in the selected columns.\n",
      "There are no NaN values in the selected columns.\n",
      "There are no NaN values in the selected columns.\n",
      "There are no NaN values in the selected columns.\n",
      "There are no NaN values in the selected columns.\n",
      "There are no NaN values in the selected columns.\n",
      "There are no NaN values in the selected columns.\n",
      "There are no NaN values in the selected columns.\n",
      "There are no NaN values in the selected columns.\n",
      "There are no NaN values in the selected columns.\n",
      "There are no NaN values in the selected columns.\n",
      "There are no NaN values in the selected columns.\n",
      "There are no NaN values in the selected columns.\n",
      "There are no NaN values in the selected columns.\n",
      "There are no NaN values in the selected columns.\n",
      "There are no NaN values in the selected columns.\n",
      "There are no NaN values in the selected columns.\n",
      "There are no NaN values in the selected columns.\n",
      "There are no NaN values in the selected columns.\n",
      "There are no NaN values in the selected columns.\n",
      "There are no NaN values in the selected columns.\n",
      "There are no NaN values in the selected columns.\n",
      "There are no NaN values in the selected columns.\n",
      "There are no NaN values in the selected columns.\n",
      "Number of participants with NaN entries =  0\n"
     ]
    }
   ],
   "source": [
    "#Testing for NaN entries:Mean of empty slice.:invalid value encountered in scalar divide\n",
    "NaN_participant_num = 0\n",
    "for participant in np.array(Functional_data['src_subject_id']):\n",
    "    \n",
    "    nan_columns = Functional_data.loc[Functional_data['src_subject_id'] == participant].isna().any()\n",
    "\n",
    "    # Print the column names where NaN values were found\n",
    "    if nan_columns.any():\n",
    "        print(\"For \", participant,\" NaN values were found in the following columns:\")\n",
    "        for col_name in nan_columns[nan_columns].index:\n",
    "            print(col_name)\n",
    "            print(\"\\n\")\n",
    "            \n",
    "        NaN_participant_num = NaN_participant_num + 1\n",
    "    else:\n",
    "        print(\"There are no NaN values in the selected columns.\")\n",
    "        \n",
    "print(\"Number of participants with NaN entries = \",NaN_participant_num)"
   ]
  },
  {
   "cell_type": "code",
   "execution_count": 29,
   "id": "f3108d17",
   "metadata": {
    "scrolled": true
   },
   "outputs": [],
   "source": [
    "# #Checking\n",
    "# for i in ROI_dataframe['ID']:\n",
    "#     output = pull_roi(func_path = '/Volumes/AUERBACHLAB/Columbia/HCP_BANDA_1.0_Data/NDA_FINAL/derivatives/BANDA211_MR/func/faces/BANDA211_MR_task-face_level2.gfeat/cope7.feat/stats/tstat1.nii.gz',\n",
    "#             label_path = '/Volumes/AUERBACHLAB/Columbia/General/Tapasi_Brahma/Atlas/HCPex/HCPex_FSLspace.nii.gz',\n",
    "#             thresh_value = i)\n",
    "    \n",
    "#     print(i, output)\n",
    "    "
   ]
  },
  {
   "cell_type": "code",
   "execution_count": 39,
   "id": "4cc6c3e9",
   "metadata": {},
   "outputs": [],
   "source": [
    "#Concatanating (Clinical, Demographic), and functional dataframes:\n",
    "#179 participants\n",
    "\n",
    "Demographic_Clinical_Functional_T2 = pd.merge(Clinical_Data_Clean_for_T2, Functional_data, on='src_subject_id', how='inner')\n"
   ]
  },
  {
   "cell_type": "code",
   "execution_count": 34,
   "id": "29d2eb3a",
   "metadata": {},
   "outputs": [],
   "source": [
    "Demographic_Clinical_Functional_T2.to_excel('/Users/eastvillage/Desktop/Tapasi/Model/Prediction of T2 scores/Functional_MRI/Demographic_Clinical_Functional_T2.xlsx', index=False)\n"
   ]
  },
  {
   "cell_type": "code",
   "execution_count": 35,
   "id": "f7917a49",
   "metadata": {},
   "outputs": [],
   "source": [
    "#Concatanating (Clinical, Demographic), structural, and functional dataframes:\n",
    "#179 participants\n",
    "\n",
    "Demographic_Clinical_Structural_Functional_T2 = pd.merge(Clinical_Structural_Data_Clean, Functional_data, on='src_subject_id', how='inner')\n"
   ]
  },
  {
   "cell_type": "code",
   "execution_count": 36,
   "id": "2f6bb5be",
   "metadata": {},
   "outputs": [
    {
     "data": {
      "text/plain": [
       "(178, 157)"
      ]
     },
     "execution_count": 36,
     "metadata": {},
     "output_type": "execute_result"
    }
   ],
   "source": [
    "Demographic_Clinical_Structural_Functional_T2.shape #11 Structural ROIs - 'Unnamed: 0'"
   ]
  },
  {
   "cell_type": "code",
   "execution_count": 40,
   "id": "7d9bf08c",
   "metadata": {},
   "outputs": [
    {
     "data": {
      "text/plain": [
       "(179, 147)"
      ]
     },
     "execution_count": 40,
     "metadata": {},
     "output_type": "execute_result"
    }
   ],
   "source": [
    "Demographic_Clinical_Functional_T2.shape "
   ]
  },
  {
   "cell_type": "code",
   "execution_count": 38,
   "id": "65b4f7af",
   "metadata": {},
   "outputs": [],
   "source": [
    "Demographic_Clinical_Structural_Functional_T2.to_excel('/Users/eastvillage/Desktop/Tapasi/Model/Prediction of T2 scores/Functional_MRI/Demographic_Clinical_Structural_Functional_T2.xlsx', index=False)\n"
   ]
  },
  {
   "cell_type": "code",
   "execution_count": null,
   "id": "ab7ee84b",
   "metadata": {},
   "outputs": [],
   "source": []
  }
 ],
 "metadata": {
  "kernelspec": {
   "display_name": "Python 3 (ipykernel)",
   "language": "python",
   "name": "python3"
  },
  "language_info": {
   "codemirror_mode": {
    "name": "ipython",
    "version": 3
   },
   "file_extension": ".py",
   "mimetype": "text/x-python",
   "name": "python",
   "nbconvert_exporter": "python",
   "pygments_lexer": "ipython3",
   "version": "3.9.16"
  }
 },
 "nbformat": 4,
 "nbformat_minor": 5
}
